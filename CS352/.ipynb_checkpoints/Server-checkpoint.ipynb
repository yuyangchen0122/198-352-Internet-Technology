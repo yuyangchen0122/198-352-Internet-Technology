{
 "cells": [
  {
   "cell_type": "code",
   "execution_count": null,
   "metadata": {},
   "outputs": [],
   "source": [
    "import numpy as mypy\n",
    "import threading\n",
    "import time\n",
    "import random"
   ]
  },
  {
   "cell_type": "code",
   "execution_count": null,
   "metadata": {},
   "outputs": [],
   "source": [
    "import socket as mysoc"
   ]
  },
  {
   "cell_type": "code",
   "execution_count": null,
   "metadata": {},
   "outputs": [],
   "source": [
    "def server():\n",
    "    try:\n",
    "        ss = mysoc.socket(mysoc.AF_INET, mysoc.SOCK_STREAM)\n",
    "        print(\"[S]: Server socket created\")\n",
    "    except mysoc.error as err:\n",
    "        print('{} \\n'.format(\"socket open error \", err))\n",
    "    server_binding = ('', 50007)\n",
    "    ss.bind(server_binding)\n",
    "    ss.listen(1)\n",
    "    host = mysoc.gethostname()\n",
    "    print(\"[S]: Server host name is: \", host)\n",
    "    localhost_ip = (mysoc.gethostbyname(host))\n",
    "    print(\"[S]: Server IP address is  \", localhost_ip)\n",
    "    csockid, addr = ss.accept()\n",
    "    print(\"[S]: Got a connection request from a client at\", addr)\n",
    "    \n",
    "    data_from_client = ss.recv(100)\n",
    "    # receive data from the server\n",
    "    print(\"[C]: Data received from client::  \", data_from_client.decode('utf-8'))\n",
    "    \n",
    "    string = data_from_client\n",
    "    reversed_data_from_client = string[::-1]\n",
    "    \n",
    "    msg1 = reversed_data_from_client\n",
    "    csockid.send(msg1.encode('utf-8'))\n",
    "    \n",
    "\n",
    "    # Close the server socket\n",
    "    ss.close()\n",
    "    exit()\n",
    "    \n",
    "t1 = threading.Thread(name='server', target=server)\n",
    "t1.start()\n",
    "\n",
    "input(\"Hit ENTER  to exit\")\n",
    "\n",
    "exit()"
   ]
  },
  {
   "cell_type": "code",
   "execution_count": null,
   "metadata": {},
   "outputs": [],
   "source": []
  }
 ],
 "metadata": {
  "kernelspec": {
   "display_name": "Python 3",
   "language": "python",
   "name": "python3"
  },
  "language_info": {
   "codemirror_mode": {
    "name": "ipython",
    "version": 3
   },
   "file_extension": ".py",
   "mimetype": "text/x-python",
   "name": "python",
   "nbconvert_exporter": "python",
   "pygments_lexer": "ipython3",
   "version": "3.6.5"
  }
 },
 "nbformat": 4,
 "nbformat_minor": 2
}
