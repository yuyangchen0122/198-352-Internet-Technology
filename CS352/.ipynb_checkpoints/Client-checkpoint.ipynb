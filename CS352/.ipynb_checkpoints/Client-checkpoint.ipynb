{
 "cells": [
  {
   "cell_type": "code",
   "execution_count": null,
   "metadata": {},
   "outputs": [],
   "source": [
    "import numpy as mypy\n",
    "import threading\n",
    "import time\n",
    "import random"
   ]
  },
  {
   "cell_type": "code",
   "execution_count": null,
   "metadata": {},
   "outputs": [],
   "source": [
    "import socket as mysoc"
   ]
  },
  {
   "cell_type": "code",
   "execution_count": null,
   "metadata": {},
   "outputs": [],
   "source": [
    "def client():\n",
    "    try:\n",
    "        cs = mysoc.socket(mysoc.AF_INET, mysoc.SOCK_STREAM)\n",
    "        print(\"[C]: Client socket created\")\n",
    "    except mysoc.error as err:\n",
    "        print('{} \\n'.format(\"socket open error \", err))\n",
    "\n",
    "    # Define the port on which you want to connect to the server\n",
    "    port = 50007\n",
    "    sa_sameas_myaddr = mysoc.gethostbyname(mysoc.gethostname())\n",
    "    # connect to the server on local machine\n",
    "    server_binding = (sa_sameas_myaddr, port)\n",
    "    cs.connect(server_binding)\n",
    "    \n",
    "    csockid, myaddr = cs.accept()\n",
    "    print(\"[S]: Got a connection request from a  at\", myaddr)\n",
    "    \n",
    "    # send a intro  message to the client.\n",
    "    msgFile = open(\"HW1test.txt\", \"r\")\n",
    "    msg = []\n",
    "    for msg in msgFile:\n",
    "        msgs.append(msg)\n",
    "        break\n",
    "        \n",
    "    csockid.send(msg.encode('utf-8'))\n",
    "    \n",
    "    data_from_server1 = cs.recv(100)\n",
    "    # receive data from the server\n",
    "\n",
    "    print(\"[C]: Data received from server::  \", data_from_server1.decode('utf-8'))\n",
    "\n",
    "    # Close the client socket\n",
    "    cs.close()\n",
    "    exit()\n",
    "    \n",
    "t2 = threading.Thread(name='client', target=client)\n",
    "t2.start()\n",
    "\n",
    "input(\"Hit ENTER  to exit\")\n",
    "\n",
    "exit()"
   ]
  },
  {
   "cell_type": "code",
   "execution_count": null,
   "metadata": {},
   "outputs": [],
   "source": []
  }
 ],
 "metadata": {
  "kernelspec": {
   "display_name": "Python 3",
   "language": "python",
   "name": "python3"
  },
  "language_info": {
   "codemirror_mode": {
    "name": "ipython",
    "version": 3
   },
   "file_extension": ".py",
   "mimetype": "text/x-python",
   "name": "python",
   "nbconvert_exporter": "python",
   "pygments_lexer": "ipython3",
   "version": "3.6.5"
  }
 },
 "nbformat": 4,
 "nbformat_minor": 2
}
