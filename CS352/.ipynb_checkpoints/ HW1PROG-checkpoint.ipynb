{
 "cells": [
  {
   "cell_type": "code",
   "execution_count": 1,
   "metadata": {},
   "outputs": [],
   "source": [
    "import numpy as mypy\n",
    "import threading\n",
    "import time\n",
    "import random"
   ]
  },
  {
   "cell_type": "code",
   "execution_count": 2,
   "metadata": {},
   "outputs": [],
   "source": [
    "import socket as mysoc"
   ]
  },
  {
   "cell_type": "code",
   "execution_count": 3,
   "metadata": {},
   "outputs": [],
   "source": [
    "def server():\n",
    "    try:\n",
    "        ss = mysoc.socket(mysoc.AF_INET, mysoc.SOCK_STREAM)\n",
    "        print(\"[S]: Server socket created\")\n",
    "    except mysoc.error as err:\n",
    "        print('{} \\n'.format(\"socket open error \", err))\n",
    "    server_binding = ('', 50007)\n",
    "    ss.bind(server_binding)\n",
    "    ss.listen(1)\n",
    "    host = mysoc.gethostname()\n",
    "    print(\"[S]: Server host name is: \", host)\n",
    "    localhost_ip = (mysoc.gethostbyname(host))\n",
    "    print(\"[S]: Server IP address is  \", localhost_ip)\n",
    "    csockid, addr = ss.accept()\n",
    "    print(\"[S]: Got a connection request from a client at\", addr)\n",
    "    # send a intro  message to the client.\n",
    "    msg = \"Welcome to CS 352\"\n",
    "    csockid.send(msg.encode('utf-8'))\n",
    "\n",
    "    # Close the server socket\n",
    "    ss.close()\n",
    "    exit()"
   ]
  },
  {
   "cell_type": "code",
   "execution_count": null,
   "metadata": {},
   "outputs": [
    {
     "name": "stdout",
     "output_type": "stream",
     "text": [
      "[S]: Server socket created\n",
      "[S]: Server host name is:  nbp-237-126.nbp.ruw.rutgers.edu\n",
      "[S]: Server IP address is   172.31.237.126\n",
      "[C]: Client socket created\n",
      "[S]: Got a connection request from a client at ('172.31.237.126', 57970)\n",
      "[C]: Data received from server::   Welcome to CS 352\n"
     ]
    }
   ],
   "source": [
    "def client():\n",
    "    try:\n",
    "        cs = mysoc.socket(mysoc.AF_INET, mysoc.SOCK_STREAM)\n",
    "        print(\"[C]: Client socket created\")\n",
    "    except mysoc.error as err:\n",
    "        print('{} \\n'.format(\"socket open error \", err))\n",
    "\n",
    "    # Define the port on which you want to connect to the server\n",
    "    port = 50007\n",
    "    sa_sameas_myaddr = mysoc.gethostbyname(mysoc.gethostname())\n",
    "    # connect to the server on local machine\n",
    "    server_binding = (sa_sameas_myaddr, port)\n",
    "    cs.connect(server_binding)\n",
    "    data_from_server = cs.recv(100)\n",
    "    # receive data from the server\n",
    "\n",
    "    print(\"[C]: Data received from server::  \", data_from_server.decode('utf-8'))\n",
    "    # close the cclient socket\n",
    "    cs.close()\n",
    "    exit()\n",
    "\n",
    "\n",
    "t1 = threading.Thread(name='server', target=server)\n",
    "t1.start()\n",
    "time.sleep(random.random() * 5)\n",
    "t2 = threading.Thread(name='client', target=client)\n",
    "t2.start()\n",
    "\n",
    "input(\"Hit ENTER  to exit\")\n",
    "\n",
    "exit()"
   ]
  },
  {
   "cell_type": "code",
   "execution_count": null,
   "metadata": {},
   "outputs": [],
   "source": []
  }
 ],
 "metadata": {
  "kernelspec": {
   "display_name": "Python 3",
   "language": "python",
   "name": "python3"
  },
  "language_info": {
   "codemirror_mode": {
    "name": "ipython",
    "version": 3
   },
   "file_extension": ".py",
   "mimetype": "text/x-python",
   "name": "python",
   "nbconvert_exporter": "python",
   "pygments_lexer": "ipython3",
   "version": "3.6.5"
  }
 },
 "nbformat": 4,
 "nbformat_minor": 2
}
